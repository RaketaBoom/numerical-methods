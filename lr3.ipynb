{
 "cells": [
  {
   "cell_type": "code",
   "execution_count": 1,
   "metadata": {},
   "outputs": [],
   "source": [
    "import numpy as np\n",
    "import math\n",
    "from scipy import integrate\n",
    "import matplotlib.pyplot as plt\n",
    "import pandas as pd\n",
    "import sympy as sm\n",
    "import scipy.integrate as spi"
   ]
  },
  {
   "cell_type": "markdown",
   "metadata": {},
   "source": [
    "#### №1 Решить нелинейное уравнение по следующему плану:\n",
    "##### ◦ Построить график функции. Определить интервалы, в которых находится единственный корень..\n",
    "##### ◦ Проверить сходимость каждого метода.\n",
    "##### ◦ В каждом интервале найти корень с точностью до 0.001 пользуясь следующими методами: методом половинного деления, методом хорд, методом последовательных приближений.\n",
    "##### ◦ Стоп по условию ∣ xn−xn−1∣< ϵ или ∣ f (xn)∣< ϵ\n",
    "##### ◦ Для каждого метода вывести количество итераций, вывести таблицу итераций(можно оформить с помощью PrettyTable или Pandas).\n",
    "##### ◦ Проверить найденные решения с помощью метода solve\n",
    "\n",
    "$$ x^3 - 1,89*x^2 - 2x + 1,76 $$"
   ]
  },
  {
   "cell_type": "code",
   "execution_count": 2,
   "metadata": {},
   "outputs": [
    {
     "name": "stdout",
     "output_type": "stream",
     "text": [
      "   right    left  iteration\n",
      "0  0.000 -2.0000          0\n",
      "1 -1.000 -2.0000          1\n",
      "2 -1.000 -1.5000          2\n",
      "3 -1.000 -1.2500          3\n",
      "4 -1.125 -1.2500          4\n",
      "5 -1.125 -1.1875          5\n",
      "   left     right      f(x)  iteration\n",
      "0     0  2.000000 -1.130000          0\n",
      "1     0  0.988764 -1.098625          1\n",
      "2     0  0.608763  0.067658          2\n",
      "3     0  0.633100 -0.009987          3\n",
      "4     0  0.629528  0.001411          4\n",
      "       right      left  iteration\n",
      "0   4.000000  2.000000          0\n",
      "1   3.000000  2.000000          1\n",
      "2   2.500000  2.000000          2\n",
      "3   2.500000  2.250000          3\n",
      "4   2.500000  2.375000          4\n",
      "5   2.437500  2.375000          5\n",
      "6   2.437500  2.406250          6\n",
      "7   2.421875  2.406250          7\n",
      "8   2.421875  2.414062          8\n",
      "9   2.417969  2.414062          9\n",
      "10  2.417969  2.416016         10\n",
      "11  2.416992  2.416016         11\n",
      "12  2.416504  2.416016         12\n"
     ]
    },
    {
     "data": {
      "image/png": "[encoded data removed]",
      "text/plain": [
       "<Figure size 640x400 with 1 Axes>"
      ]
     },
     "metadata": {},
     "output_type": "display_data"
    }
   ],
   "source": [
    "def func(x):\n",
    "    return x**3 - 1.89*x**2 - 2*x + 1.76\n",
    "\n",
    "def half_division_method(left, right):\n",
    "    iterations = 0\n",
    "    table = [[]]\n",
    "    table[0] = [right, left, iterations]\n",
    "    while True:\n",
    "        middle = (right + left) / 2\n",
    "        if func(left) * func(middle) < 0:\n",
    "            right = middle\n",
    "        elif func(right) * func(middle) < 0:\n",
    "            left = middle\n",
    "        if abs(func(middle)) < 0.001:\n",
    "            break\n",
    "        iterations += 1\n",
    "        table.append([right, left, iterations])\n",
    "    df = pd.DataFrame(table, columns=['right', 'left', 'iteration'])\n",
    "    print(df)\n",
    "    return (right + left) / 2\n",
    "\n",
    "def dxdx_func(x):\n",
    "    return  6 * x - 1.89 * 2\n",
    "\n",
    "def khord_method(left, right):\n",
    "    iterations = 0\n",
    "    table = [[]]\n",
    "    table[0] = [left, right, func((right - left) / 2), 0]\n",
    "    if dxdx_func(left) * func(left) < 0:\n",
    "        x = right\n",
    "        while True:\n",
    "            x_new = x - func(x) / (func(x) - func(left)) * (x - left)\n",
    "            if abs(func(x_new)) < 0.001:\n",
    "                x = x_new\n",
    "                break\n",
    "            x = x_new\n",
    "            iterations += 1\n",
    "            table.append([left, x, func(x), iterations])\n",
    "    else:\n",
    "        x = left \n",
    "        while True:\n",
    "            x_new = x - func(x) / (func(right) - func(x)) * (right - x)\n",
    "            if abs(func(x_new)) < 0.001:\n",
    "                x = x_new\n",
    "                break\n",
    "            x = x_new\n",
    "            iterations += 1\n",
    "            table.append([x, right, func(x), iterations])\n",
    "    df = pd.DataFrame(table, columns=['left', 'right', 'f(x)', 'iteration'])\n",
    "    print(df)\n",
    "    return x\n",
    "\n",
    "fig = plt.figure(figsize=(8, 5), dpi=80); # А как иначе я определю интервалы\n",
    "X = np.linspace(-5, 5, 256, endpoint=True);\n",
    "F =  X**3 - 1.89*X**2 - 2*X + 1.76;\n",
    "plt.plot(X, F, color=\"red\", linewidth=2.5, linestyle=\"-\", label=\"Function\");\n",
    "plt.xlabel('x axis')\n",
    "plt.ylabel('y axis')\n",
    "plt.ylim(-12, 12)\n",
    "result1 = half_division_method(-2, 0) # метод половинного деления реализован\n",
    "plt.plot(result1, func(result1), color=\"blue\", marker=\"o\")\n",
    "result2 = khord_method(0, 2) # метод хорд стоит\n",
    "plt.plot(result2, func(result2), color=\"blue\", marker=\"o\")\n",
    "result3 = half_division_method(2, 4) # метод ньютона поставье\n",
    "plt.plot(result3, func(result3), color=\"blue\", marker=\"o\")\n",
    "plt.title('График функции x**3 - 1.89*x**2 - 2*x + 1.76')\n",
    "plt.legend(loc='upper left', frameon=False);\n",
    "plt.grid();\n",
    "plt.show();\n",
    "\n",
    "# print(\"bin_search\")\n",
    "# x = half_division_method(-4, -3)\n",
    "# print(f\"x={x}, y(x)={func(x)}\")"
   ]
  },
  {
   "cell_type": "code",
   "execution_count": null,
   "metadata": {},
   "outputs": [],
   "source": []
  }
 ],
 "metadata": {
  "kernelspec": {
   "display_name": "Python 3",
   "language": "python",
   "name": "python3"
  },
  "language_info": {
   "codemirror_mode": {
    "name": "ipython",
    "version": 3
   },
   "file_extension": ".py",
   "mimetype": "text/x-python",
   "name": "python",
   "nbconvert_exporter": "python",
   "pygments_lexer": "ipython3",
   "version": "3.10.5"
  }
 },
 "nbformat": 4,
 "nbformat_minor": 2
}
