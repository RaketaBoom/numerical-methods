{
 "cells": [
  {
   "cell_type": "markdown",
   "metadata": {},
   "source": [
    "### 2 лабораторнач работа\n",
    "#### _From Rasul, Nail and Alsu with Love_"
   ]
  },
  {
   "cell_type": "code",
   "execution_count": 17,
   "metadata": {},
   "outputs": [],
   "source": [
    "import numpy as np\n",
    "import sympy as sp\n",
    "import math\n",
    "from scipy import integrate\n",
    "import matplotlib.pyplot as plt\n",
    "import pandas as pd"
   ]
  },
  {
   "cell_type": "markdown",
   "metadata": {},
   "source": [
    "##### 1 задание\n",
    "\n",
    "Создать квадратную матрицу из случайных вещественных чисел размера 10 . Найти скалярное произведение 2 строки на 7 столбец. использовать срезы матриц."
   ]
  },
  {
   "cell_type": "code",
   "execution_count": 18,
   "metadata": {},
   "outputs": [
    {
     "name": "stdout",
     "output_type": "stream",
     "text": [
      "162\n"
     ]
    }
   ],
   "source": [
    "matrix = np.random.randint(0, 10, size=(10, 10))\n",
    "second_row = matrix[1, :] \n",
    "seventh_column = matrix[:, 6] \n",
    "\n",
    "dot_product = np.dot(second_row, seventh_column)\n",
    "print(dot_product)"
   ]
  },
  {
   "cell_type": "markdown",
   "metadata": {},
   "source": [
    "#### 2 задание\n",
    "\n",
    "Создать вектор-строку 1x10 из случайных целых чисел. Вычислить норму $$ ||x||_4 $$ самостоятельно написанной функцией и проверить результат с помощью linalg.norm() в Python."
   ]
  },
  {
   "cell_type": "code",
   "execution_count": 19,
   "metadata": {},
   "outputs": [
    {
     "name": "stdout",
     "output_type": "stream",
     "text": [
      "[78 35 61  0 77 71 87 30 55 79]\n",
      "121.66728868441315\n",
      "121.66728868441315\n"
     ]
    }
   ],
   "source": [
    "vector = np.random.randint(0, 101, 10)\n",
    "\n",
    "def norm_p(x, p):\n",
    "    return np.sum(np.abs(x)**p)**(1/p)\n",
    "\n",
    "# Вычисление нормы ||x||4 с помощью написанной функции\n",
    "custom_norm_value = norm_p(vector, 4)\n",
    "\n",
    "# Вычисление нормы ||x||4 с помощью linalg.norm()\n",
    "linalg_norm_value = np.linalg.norm(vector, 4)\n",
    "\n",
    "print(vector)\n",
    "print(custom_norm_value)\n",
    "print(linalg_norm_value)"
   ]
  },
  {
   "cell_type": "markdown",
   "metadata": {},
   "source": [
    "#### 3 задание\n",
    "\n",
    "Создать матрицу из случайных целых чисел. Найти норму матрицы $$ ||A||_∞ $$ с помощью самостоятельно написанного\n",
    "алгоритма, проверить результат с помощью linalg.norm() в Python."
   ]
  },
  {
   "cell_type": "code",
   "execution_count": 20,
   "metadata": {},
   "outputs": [
    {
     "name": "stdout",
     "output_type": "stream",
     "text": [
      "[[22 41 38 20 27]\n",
      " [42 34  0 37 45]\n",
      " [27  3 16 15  4]\n",
      " [22  7 40 48 38]\n",
      " [33 15  0 39  6]]\n",
      "158\n",
      "158.0\n"
     ]
    }
   ],
   "source": [
    "# Создаем матрицу 5x5 из случайных целых чисел в диапазоне от 0 до 50\n",
    "matrix = np.random.randint(0, 51, (5, 5))\n",
    "\n",
    "# Функция для вычисления бесконечной нормы матрицы \n",
    "def infinity_norm(matrix):\n",
    "    return np.max(np.sum(np.abs(matrix), axis=1))\n",
    "\n",
    "# Вычисление бесконечной нормы матрицы с помощью написанной функции\n",
    "custom_infinity_norm = infinity_norm(matrix)\n",
    "\n",
    "# Вычисление бесконечной нормы матрицы с помощью linalg.norm()\n",
    "linalg_infinity_norm = np.linalg.norm(matrix, np.inf)\n",
    "\n",
    "print(matrix)\n",
    "print(custom_infinity_norm)\n",
    "print(linalg_infinity_norm)"
   ]
  },
  {
   "cell_type": "markdown",
   "metadata": {},
   "source": [
    "#### 4 задание\n",
    "\n",
    "Найти псевдорешение системы \n",
    "3.3x1 + 2.1x2 + 2.8x3 = 0.8\n",
    "4.1x1 + 3.7x2 + 4.8x3 = 5.7\n",
    "2.7x1 + 1.8x2 + 1.1x3 = 3.2\n",
    "3.15x1 - 1.72x2 - 1.23x3 = 2.15"
   ]
  },
  {
   "cell_type": "code",
   "execution_count": 26,
   "metadata": {},
   "outputs": [
    {
     "data": {
      "text/plain": [
       "array([ 0.79147895,  0.66140852, -0.2988653 ])"
      ]
     },
     "execution_count": 26,
     "metadata": {},
     "output_type": "execute_result"
    }
   ],
   "source": [
    "# Коэффициенты при переменных в левой части уравнений\n",
    "A = np.array([\n",
    "    [3.3, 2.1, 2.8],\n",
    "    [4.1, 3.7, 4.8],\n",
    "    [2.7, 1.8, 1.1],\n",
    "    [3.15, -1.72, -1.23]\n",
    "])\n",
    "\n",
    "# Значения в правой части уравнений\n",
    "b = np.array([0.8, 5.7, 3.2, 2.15])\n",
    "\n",
    "#Псевдорешение\n",
    "A_transponsed = A.transpose()\n",
    "matr_inv = np.linalg.inv(np.matmul(A_transponsed, A))\n",
    "x = np.matmul(np.matmul(matr_inv, A_transponsed), b)\n",
    "x"
   ]
  },
  {
   "cell_type": "markdown",
   "metadata": {},
   "source": [
    "#### 5 задание\n",
    "\n",
    "Даны пять точек (-4; 7), (-2; 1), (0; -3), (4, -8), (6, -9). Найти уравнение наиболее выгодной траектории. Построить график.\n"
   ]
  },
  {
   "cell_type": "code",
   "execution_count": 28,
   "metadata": {},
   "outputs": [
    {
     "name": "stdout",
     "output_type": "stream",
     "text": [
      "[[-1.54651163]\n",
      " [-1.1627907 ]]\n"
     ]
    },
    {
     "data": {
      "image/png": "[encoded data removed]",
      "text/plain": [
       "<Figure size 640x400 with 1 Axes>"
      ]
     },
     "metadata": {},
     "output_type": "display_data"
    }
   ],
   "source": [
    "matr = np.array([[-4, 1],\n",
    "                 [-2, 1],\n",
    "                 [0, 1],\n",
    "                 [4, 1],\n",
    "                 [6, 1]], np.int64)\n",
    "vecB = np.array([[7],\n",
    "                 [1],\n",
    "                 [-3],\n",
    "                 [-8],\n",
    "                 [-9]], np.int64)\n",
    "matr_transponsed = matr.transpose()\n",
    "matr_1 = np.dot(matr_transponsed, matr)\n",
    "matr_inv = np.linalg.inv(matr_1)\n",
    "matr_2 = np.dot(matr_inv, matr_transponsed)\n",
    "x = np.dot(matr_2, vecB)\n",
    "print(x) # x = [a, b]\n",
    "\n",
    "fig = plt.figure(figsize=(8, 5), dpi=80);\n",
    "\"\"\"\n",
    "ax = plt.subplot(111);\n",
    "ax.spines['right'].set_color('none');\n",
    "ax.spines['top'].set_color('none');\n",
    "ax.xaxis.set_ticks_position('bottom');\n",
    "ax.spines['bottom'].set_position(('data', 0));\n",
    "ax.yaxis.set_ticks_position('left');\n",
    "ax.spines['left'].set_position(('data', 0));\n",
    "\"\"\"\n",
    "X = np.linspace(-12, 12, 256, endpoint=True);\n",
    "F = x[0] * X + x[1];\n",
    "plt.plot(X, F, color=\"red\", linewidth=2.5, linestyle=\"-\", label=\"Function\");\n",
    "plt.xlabel('x axis')\n",
    "plt.ylabel('y axis')\n",
    "plt.title('Уравнение выгодной траектории')\n",
    "plt.plot(-4, 7, color=\"orange\", marker=\"o\")\n",
    "plt.plot(-2, 1, color=\"orange\", marker=\"o\")\n",
    "plt.plot(0, -3, color=\"orange\", marker=\"o\")\n",
    "plt.plot(4, -8, color=\"orange\", marker=\"o\")\n",
    "plt.plot(6, -9, color=\"orange\", marker=\"o\")\n",
    "plt.legend(loc='upper left', frameon=False);\n",
    "plt.grid();\n",
    "plt.show();"
   ]
  },
  {
   "cell_type": "markdown",
   "metadata": {},
   "source": [
    "#### 6 задание\n",
    "\n",
    "Решить систему, используя LU разложение матрицы. LU разложение должно быть найдено самостоятельно написанной функцией, полученные матрицы выведены на экран. Придерживаться плана решения, приведенного в пособии!"
   ]
  },
  {
   "cell_type": "code",
   "execution_count": 32,
   "metadata": {},
   "outputs": [
    {
     "name": "stdout",
     "output_type": "stream",
     "text": [
      "[[  1.           0.           0.           0.        ]\n",
      " [  0.58450704   1.           0.           0.        ]\n",
      " [  1.         -10.71965414   1.           0.        ]\n",
      " [ -1.10322581   0.34646544   0.08174775   1.        ]]\n",
      "[[ 0.98142231]\n",
      " [-0.58799902]\n",
      " [-1.01184977]\n",
      " [-0.88998935]]\n"
     ]
    },
    {
     "name": "stderr",
     "output_type": "stream",
     "text": [
      "C:\\Users\\rasul\\AppData\\Local\\Temp\\ipykernel_21012\\3980539863.py:16: DeprecationWarning: Conversion of an array with ndim > 0 to a scalar is deprecated, and will error in future. Ensure you extract a single element from your array before performing this operation. (Deprecated NumPy 1.25.)\n",
      "  vecY[0] = vecB[0]\n",
      "C:\\Users\\rasul\\AppData\\Local\\Temp\\ipykernel_21012\\3980539863.py:21: DeprecationWarning: Conversion of an array with ndim > 0 to a scalar is deprecated, and will error in future. Ensure you extract a single element from your array before performing this operation. (Deprecated NumPy 1.25.)\n",
      "  vecY[i] = resS\n"
     ]
    }
   ],
   "source": [
    "def LU_decomposition(matrA):\n",
    "    n = len(matrA[0])\n",
    "    matrU = np.zeros((n, n), float)\n",
    "    matrL = np.identity(n, float)\n",
    "    for i in range(n):\n",
    "        for j in range(n):\n",
    "            if i <= j:\n",
    "                matrU[i, j] = matrA[i, j] - np.dot(matrL[i, :i], matrU[:i, j])\n",
    "            else:\n",
    "                matrL[i, j] = (matrA[i, j] - np.dot(matrL[i, :j], matrU[:j, j])) / matrU[j, i]\n",
    "    return matrL, matrU\n",
    "\n",
    "def search_vecY(matrL, vecB):\n",
    "    n = len(vecB)\n",
    "    vecY = np.zeros(n, float)\n",
    "    vecY[0] = vecB[0]\n",
    "    for i in range(1, n):\n",
    "        resS = vecB[i]\n",
    "        for j in range(i):\n",
    "            resS = resS - matrL[i][j] * vecY[j]\n",
    "        vecY[i] = resS\n",
    "    return vecY\n",
    "\n",
    "def search_vecX(matrU, vecY):\n",
    "    n = len(vecY)\n",
    "    vecX = np.zeros(n, float)\n",
    "    vecX[n-1] = vecY[n-1] / matrU[n-1][n-1]\n",
    "    for i in range(n-1, -1, -1):\n",
    "        resS = vecY[i]\n",
    "        for j in range(n - 1, i, -1):\n",
    "            resS = resS - matrU[i][j] * vecX[j]\n",
    "        vecX[i] = resS / matrU[i][i]\n",
    "    return vecX\n",
    "\n",
    "# Коэффициенты и правая часть системы\n",
    "matrA = np.array([\n",
    "    [3.8, 14.2, 6.3, -15.5],\n",
    "    [8.3, -6.6, 5.8, 12.2],\n",
    "    [6.3, -8.5, -4.3, 8.8],\n",
    "    [17.1, -8.3, 14.4, -7.2]\n",
    "])\n",
    "vecB = np.array([[2.8],\n",
    "                 [-4.7],\n",
    "                 [7.7],\n",
    "                 [13.5]])\n",
    "\n",
    "matrL, matrU = LU_decomposition(matrA)\n",
    "vecY = search_vecY(matrL, vecB)\n",
    "vecX = search_vecX(matrU, vecY)\n",
    "\n",
    "print(np.linalg.solve(matrA, vecB))"
   ]
  },
  {
   "cell_type": "markdown",
   "metadata": {},
   "source": [
    "#### 7 Задание\n",
    "Решить систему из пункта 6 с помощью QR разложения матрицы А. QR разложение найти методом Хаусхолдера. Придерживаться плана решения, приведенного в пособии! Проверить полученное решение непосредственной подстановкой в исходную систему, а также методом np.solve"
   ]
  },
  {
   "cell_type": "code",
   "execution_count": 33,
   "metadata": {},
   "outputs": [
    {
     "name": "stdout",
     "output_type": "stream",
     "text": [
      "matrix A: [[  3.8  14.2   6.3 -15.5]\n",
      " [  8.3  -6.6   5.8  12.2]\n",
      " [  6.3  -8.5  -4.3   8.8]\n",
      " [ 17.1  -8.3  14.4  -7.2]]\n",
      "\n",
      "QR: [[  3.8  14.2   6.3 -15.5]\n",
      " [  8.3  -6.6   5.8  12.2]\n",
      " [  6.3  -8.5  -4.3   8.8]\n",
      " [ 17.1  -8.3  14.4  -7.2]]\n",
      "[[ 0.98142231]\n",
      " [-0.58799902]\n",
      " [-1.01184977]\n",
      " [-0.88998935]]\n",
      "[[ 0.98142231]\n",
      " [-0.58799902]\n",
      " [-1.01184977]\n",
      " [-0.88998935]]\n"
     ]
    },
    {
     "name": "stderr",
     "output_type": "stream",
     "text": [
      "C:\\Users\\rasul\\AppData\\Local\\Temp\\ipykernel_21012\\3980539863.py:27: DeprecationWarning: Conversion of an array with ndim > 0 to a scalar is deprecated, and will error in future. Ensure you extract a single element from your array before performing this operation. (Deprecated NumPy 1.25.)\n",
      "  vecX[n-1] = vecY[n-1] / matrU[n-1][n-1]\n",
      "C:\\Users\\rasul\\AppData\\Local\\Temp\\ipykernel_21012\\3980539863.py:32: DeprecationWarning: Conversion of an array with ndim > 0 to a scalar is deprecated, and will error in future. Ensure you extract a single element from your array before performing this operation. (Deprecated NumPy 1.25.)\n",
      "  vecX[i] = resS / matrU[i][i]\n"
     ]
    }
   ],
   "source": [
    "def householder_reflection(A):\n",
    "    \"\"\"\n",
    "    Производит QR разложение матрицы A с помощью преобразований Хаусхолдера.\n",
    "    Возвращает матрицы Q и R.\n",
    "    \"\"\"\n",
    "    (r, c) = np.shape(A)\n",
    "    Q = np.identity(r)\n",
    "    R = np.copy(A)\n",
    "    for cnt in range(r - 1):\n",
    "        x = R[cnt:, cnt]\n",
    "        e = np.zeros_like(x)\n",
    "        e[0] = np.linalg.norm(x)\n",
    "        u = x - e\n",
    "        v = u / np.linalg.norm(u)\n",
    "        Q_cnt = np.identity(r)\n",
    "        Q_cnt[cnt:, cnt:] -= 2.0 * np.outer(v, v)\n",
    "        R = np.dot(Q_cnt, R)\n",
    "        Q = np.dot(Q, Q_cnt)\n",
    "    return (Q, R)\n",
    "\n",
    "def mult_Q_transpose(matrQ, vecB):\n",
    "    #vecY = np.zeros(len(vecB), float)\n",
    "    matr_Q_transponse = np.transpose(matrQ)\n",
    "    return np.matmul(matr_Q_transponse, vecB)\n",
    "\n",
    "matrA = matrA\n",
    "vecB = vecB\n",
    "matrQ, matrR = householder_reflection(matrA)\n",
    "print(f\"matrix A: {matrA}\\n\")\n",
    "print(f\"QR: {np.matmul(matrQ, matrR)}\")\n",
    "\n",
    "vecY = mult_Q_transpose(matrQ, vecB)\n",
    "vecX = search_vecX(matrR, vecY)\n",
    "print(np.reshape(vecX, (4, 1)))\n",
    "print(np.linalg.solve(matrA, vecB))"
   ]
  },
  {
   "cell_type": "markdown",
   "metadata": {},
   "source": [
    "#### 8 Задание\n",
    "Методом Зейделя"
   ]
  },
  {
   "cell_type": "code",
   "execution_count": 36,
   "metadata": {},
   "outputs": [
    {
     "name": "stdout",
     "output_type": "stream",
     "text": [
      "          X1        X2        X3\n",
      "0   0.000000  0.000000  0.000000\n",
      "1   0.109589  0.655172  0.351648\n",
      "2  -0.213764  0.409514  0.189538\n",
      "3  -0.080916  0.651339  0.334070\n",
      "4  -0.205919  0.508991  0.246820\n",
      "5  -0.131504  0.616038  0.312066\n",
      "6  -0.187324  0.544971  0.268812\n",
      "7  -0.150290  0.595141  0.299431\n",
      "8  -0.176466  0.560795  0.278520\n",
      "9  -0.158565  0.584669  0.293080\n",
      "10 -0.171018  0.568199  0.283046\n",
      "11 -0.162431  0.579603  0.289999\n",
      "12 -0.168379  0.571721  0.285195\n",
      "13 -0.164269  0.577174  0.288519\n",
      "14 -0.167112  0.573403  0.286221\n",
      "15 -0.165146  0.576011  0.287811\n",
      "16 -0.166506  0.574208  0.286711\n",
      "17 -0.165566  0.575455  0.287472\n",
      "18 -0.166216  0.574592  0.286946\n",
      "Result: \n",
      "[-0.16621595  0.57459249  0.2869459 ]\n",
      "Решение методом np.linalg.solve:\n",
      " [-0.16595004  0.57494518  0.28716085]\n"
     ]
    }
   ],
   "source": [
    "def task_8_complete(x, new_x):\n",
    "    vec = new_x - x\n",
    "    return np.linalg.norm(vec, ord=np.inf) < 0.001\n",
    "\n",
    "\n",
    "matrix_a = np.array([[7.3, 2.1, 2.8],\n",
    "                [4.1, 8.7, 4.8],\n",
    "                [2.7, 1.8, 9.1]])\n",
    "matrix_b = np.array([0.8, 5.7, 3.2])\n",
    "\n",
    "x = [0 for k in range(0, len(matrix_b))]\n",
    "iter_amount = 0\n",
    "MAX_ITER = 100\n",
    "matrix_a_new = np.zeros((len(matrix_b), len(matrix_b)), dtype=np.float64)\n",
    "matrix_b_new = np.zeros(len(matrix_b), dtype=np.float64)\n",
    "for i in range(0, len(matrix_b)):\n",
    "    for j in range(0, len(matrix_b)):\n",
    "        if i != j:\n",
    "            matrix_a_new[i][j] = -matrix_a[i][j] / matrix_a[i][i]\n",
    "    matrix_b_new[i] = matrix_b[i] / matrix_a[i][i]\n",
    "table = [[]]\n",
    "table[0] = x\n",
    "while iter_amount < MAX_ITER:\n",
    "    x_prev = x\n",
    "    matr1 = np.matmul(matrix_a_new, x)\n",
    "    x_new = matr1 + matrix_b_new\n",
    "    table.append(x_new)\n",
    "    x = x_new\n",
    "    if task_8_complete(x_prev, x):\n",
    "        break\n",
    "    iter_amount += 1\n",
    "dt = pd.DataFrame(table, columns=['X1', 'X2', 'X3'])\n",
    "print(dt)\n",
    "print(f\"Result: \\n{x}\")\n",
    "print(\"Решение методом np.linalg.solve:\\n\", np.linalg.solve(matrix_a, matrix_b))"
   ]
  }
 ],
 "metadata": {
  "kernelspec": {
   "display_name": "Python 3",
   "language": "python",
   "name": "python3"
  },
  "language_info": {
   "codemirror_mode": {
    "name": "ipython",
    "version": 3
   },
   "file_extension": ".py",
   "mimetype": "text/x-python",
   "name": "python",
   "nbconvert_exporter": "python",
   "pygments_lexer": "ipython3",
   "version": "3.11.0"
  }
 },
 "nbformat": 4,
 "nbformat_minor": 2
}
